{
 "cells": [
  {
   "cell_type": "markdown",
   "id": "678f326a",
   "metadata": {},
   "source": [
    "# IRIS\n",
    "\n",
    "Classical SVM - sklearn\n",
    "\n",
    "QSVM - qiskit (based on ideas from https://github.com/Qiskit/qiskit-machine-learning/blob/main/docs/tutorials/03_quantum_kernel.ipynb)"
   ]
  },
  {
   "cell_type": "code",
   "execution_count": 1,
   "id": "e045b020",
   "metadata": {},
   "outputs": [],
   "source": [
    "import numpy as np\n",
    "import pandas as pd\n",
    "from sklearn.svm import SVC\n",
    "from sklearn.preprocessing import StandardScaler\n",
    "from sklearn.datasets import load_iris\n",
    "from sklearn.model_selection import train_test_split"
   ]
  },
  {
   "cell_type": "code",
   "execution_count": 2,
   "id": "297af83b",
   "metadata": {},
   "outputs": [],
   "source": [
    "np.random.seed(42)"
   ]
  },
  {
   "cell_type": "markdown",
   "id": "cfe87f2a",
   "metadata": {},
   "source": [
    "## Data Prep"
   ]
  },
  {
   "cell_type": "code",
   "execution_count": 3,
   "id": "a670e02b",
   "metadata": {
    "scrolled": true
   },
   "outputs": [],
   "source": [
    "iris = load_iris()"
   ]
  },
  {
   "cell_type": "code",
   "execution_count": 4,
   "id": "5c8f67e3",
   "metadata": {},
   "outputs": [
    {
     "data": {
      "text/plain": [
       "(150, 4)"
      ]
     },
     "execution_count": 4,
     "metadata": {},
     "output_type": "execute_result"
    }
   ],
   "source": [
    "iris['data'].shape"
   ]
  },
  {
   "cell_type": "code",
   "execution_count": 5,
   "id": "50f900af",
   "metadata": {},
   "outputs": [],
   "source": [
    "X = iris.data\n",
    "Y = iris.target"
   ]
  },
  {
   "cell_type": "code",
   "execution_count": 6,
   "id": "db1cc266",
   "metadata": {},
   "outputs": [],
   "source": [
    "# set aside 20% of train and test data for evaluation\n",
    "x_train, x_test, y_train, y_test = train_test_split(X, Y, test_size=0.2, shuffle = True, random_state = 42)"
   ]
  },
  {
   "cell_type": "markdown",
   "id": "61287fc4",
   "metadata": {},
   "source": [
    "### Training data"
   ]
  },
  {
   "cell_type": "code",
   "execution_count": 7,
   "id": "2dc6904b",
   "metadata": {},
   "outputs": [],
   "source": [
    "# Fitting and scaling training data\n",
    "scaler = StandardScaler().fit(x_train)\n",
    "x_train = scaler.transform(x_train)"
   ]
  },
  {
   "cell_type": "markdown",
   "id": "daafd739",
   "metadata": {},
   "source": [
    "### Validation data"
   ]
  },
  {
   "cell_type": "code",
   "execution_count": 8,
   "id": "67d39b4f",
   "metadata": {},
   "outputs": [],
   "source": [
    "# Scaling validation data\n",
    "x_test = scaler.transform(x_test)"
   ]
  },
  {
   "cell_type": "markdown",
   "id": "a6381571",
   "metadata": {},
   "source": [
    "## SVM Training"
   ]
  },
  {
   "cell_type": "code",
   "execution_count": 9,
   "id": "ee9a1d08",
   "metadata": {
    "scrolled": true
   },
   "outputs": [
    {
     "name": "stdout",
     "output_type": "stream",
     "text": [
      "Kernel: linear, train score: 0.9833333333333333, test score: 0.9666666666666667\n",
      "Kernel: poly, train score: 0.95, test score: 0.9666666666666667\n",
      "Kernel: rbf, train score: 0.9666666666666667, test score: 1.0\n",
      "Kernel: sigmoid, train score: 0.8916666666666667, test score: 0.9\n",
      "CPU times: user 4.58 ms, sys: 910 µs, total: 5.49 ms\n",
      "Wall time: 4.33 ms\n"
     ]
    }
   ],
   "source": [
    "%%time\n",
    "\n",
    "kernel_list = ['linear', 'poly', 'rbf', 'sigmoid']\n",
    "\n",
    "for kernel in kernel_list:\n",
    "    svc_classifier = SVC(kernel = kernel)\n",
    "    svc_classifier.fit(x_train,y_train)\n",
    "    \n",
    "    train_score = svc_classifier.score(x_train,y_train)\n",
    "    test_score = svc_classifier.score(x_test,y_test)\n",
    "    \n",
    "    print(f'Kernel: {kernel}, train score: {train_score}, test score: {test_score}')\n",
    "    "
   ]
  },
  {
   "cell_type": "markdown",
   "id": "94ae3146",
   "metadata": {},
   "source": [
    "## QSVC training"
   ]
  },
  {
   "cell_type": "code",
   "execution_count": 10,
   "id": "79895c0b",
   "metadata": {},
   "outputs": [],
   "source": [
    "from qiskit import version\n",
    "from qiskit.providers.aer.backends import StatevectorSimulator\n",
    "from qiskit.circuit.library import ZZFeatureMap, ZFeatureMap\n",
    "from qiskit.utils import QuantumInstance, algorithm_globals\n",
    "from qiskit_machine_learning.algorithms import QSVC\n",
    "from qiskit_machine_learning.kernels import QuantumKernel\n",
    "\n",
    "seed = 42\n",
    "algorithm_globals.random_seed = seed"
   ]
  },
  {
   "cell_type": "code",
   "execution_count": 11,
   "id": "eb767f11",
   "metadata": {},
   "outputs": [
    {
     "data": {
      "text/plain": [
       "{'qiskit-terra': '0.19.2', 'qiskit-aer': '0.10.3', 'qiskit-ignis': '0.7.0', 'qiskit-ibmq-provider': '0.18.3', 'qiskit-aqua': None, 'qiskit': '0.34.2', 'qiskit-nature': None, 'qiskit-finance': None, 'qiskit-optimization': None, 'qiskit-machine-learning': '0.3.1'}"
      ]
     },
     "execution_count": 11,
     "metadata": {},
     "output_type": "execute_result"
    }
   ],
   "source": [
    "version.QiskitVersion()"
   ]
  },
  {
   "cell_type": "code",
   "execution_count": 12,
   "id": "167589ff",
   "metadata": {},
   "outputs": [],
   "source": [
    "# number of features in the data - corresponds to number of qubits used \n",
    "iris_data_features = x_train.shape[1]\n",
    "# how many times to repeat the quantum embedding circuit\n",
    "reps = 1\n",
    "# what type of entanglement between qubits to use with ZZFeatureMap\n",
    "# ('full', 'linear', 'circular', 'sca')\n",
    "entanglement=\"full\""
   ]
  },
  {
   "cell_type": "markdown",
   "id": "107f49fc",
   "metadata": {},
   "source": [
    "## Using ZFeatureMap for quantum embedding of classical data"
   ]
  },
  {
   "cell_type": "code",
   "execution_count": 13,
   "id": "633a692c",
   "metadata": {},
   "outputs": [],
   "source": [
    "iris_feature_map = ZFeatureMap(feature_dimension=iris_data_features, reps=reps)\n",
    "\n",
    "quantum_simulator = StatevectorSimulator(device='CPU')\n",
    "\n",
    "quantum_backend = QuantumInstance(\n",
    "    quantum_simulator, seed_simulator=seed, seed_transpiler=seed\n",
    ")\n",
    "\n",
    "iris_kernel = QuantumKernel(feature_map=iris_feature_map, quantum_instance=quantum_backend)"
   ]
  },
  {
   "cell_type": "code",
   "execution_count": 14,
   "id": "6352a2a8",
   "metadata": {},
   "outputs": [
    {
     "name": "stdout",
     "output_type": "stream",
     "text": [
      "CPU times: user 518 ms, sys: 62.4 ms, total: 580 ms\n",
      "Wall time: 879 ms\n"
     ]
    }
   ],
   "source": [
    "%%time\n",
    "iris_matrix_train = iris_kernel.evaluate(x_vec=x_train)"
   ]
  },
  {
   "cell_type": "code",
   "execution_count": 15,
   "id": "f2771080",
   "metadata": {},
   "outputs": [
    {
     "data": {
      "text/plain": [
       "(120, 120)"
      ]
     },
     "execution_count": 15,
     "metadata": {},
     "output_type": "execute_result"
    }
   ],
   "source": [
    "iris_matrix_train.shape"
   ]
  },
  {
   "cell_type": "code",
   "execution_count": 16,
   "id": "e9258bc8",
   "metadata": {},
   "outputs": [
    {
     "name": "stdout",
     "output_type": "stream",
     "text": [
      "CPU times: user 820 µs, sys: 0 ns, total: 820 µs\n",
      "Wall time: 627 µs\n"
     ]
    },
    {
     "data": {
      "text/plain": [
       "SVC(kernel='precomputed')"
      ]
     },
     "execution_count": 16,
     "metadata": {},
     "output_type": "execute_result"
    }
   ],
   "source": [
    "%%time\n",
    "iris_svc = SVC(kernel=\"precomputed\")\n",
    "iris_svc.fit(iris_matrix_train, y_train)"
   ]
  },
  {
   "cell_type": "code",
   "execution_count": 17,
   "id": "08512245",
   "metadata": {},
   "outputs": [
    {
     "name": "stdout",
     "output_type": "stream",
     "text": [
      "Precomputed kernel classification train score: 0.95\n",
      "CPU times: user 1.35 ms, sys: 0 ns, total: 1.35 ms\n",
      "Wall time: 775 µs\n"
     ]
    }
   ],
   "source": [
    "%%time\n",
    "iris_train_score = iris_svc.score(iris_matrix_train, y_train)\n",
    "print(f\"Precomputed kernel classification train score: {iris_train_score}\")"
   ]
  },
  {
   "cell_type": "code",
   "execution_count": 18,
   "id": "a631ce74",
   "metadata": {},
   "outputs": [
    {
     "name": "stdout",
     "output_type": "stream",
     "text": [
      "Precomputed kernel classification test score: 0.9666666666666667\n",
      "CPU times: user 191 ms, sys: 41.1 ms, total: 232 ms\n",
      "Wall time: 228 ms\n"
     ]
    }
   ],
   "source": [
    "%%time\n",
    "iris_matrix_test = iris_kernel.evaluate(x_vec=x_test, y_vec=x_train)\n",
    "iris_test_score = iris_svc.score(iris_matrix_test, y_test)\n",
    "print(f\"Precomputed kernel classification test score: {iris_test_score}\")"
   ]
  },
  {
   "cell_type": "markdown",
   "id": "3703facc",
   "metadata": {},
   "source": [
    "## Using ZZFeatureMap for quantum embedding of classical data"
   ]
  },
  {
   "cell_type": "code",
   "execution_count": 19,
   "id": "7c892cff",
   "metadata": {},
   "outputs": [],
   "source": [
    "iris_feature_map = ZZFeatureMap(feature_dimension=iris_data_features, reps=reps, entanglement=entanglement)\n",
    "\n",
    "quantum_simulator = StatevectorSimulator(device='CPU')\n",
    "\n",
    "quantum_backend = QuantumInstance(\n",
    "    quantum_simulator, seed_simulator=seed, seed_transpiler=seed\n",
    ")\n",
    "\n",
    "iris_kernel = QuantumKernel(feature_map=iris_feature_map, quantum_instance=quantum_backend)"
   ]
  },
  {
   "cell_type": "code",
   "execution_count": 20,
   "id": "6c7d50f9",
   "metadata": {},
   "outputs": [
    {
     "name": "stdout",
     "output_type": "stream",
     "text": [
      "CPU times: user 464 ms, sys: 33 ms, total: 497 ms\n",
      "Wall time: 494 ms\n"
     ]
    }
   ],
   "source": [
    "%%time\n",
    "iris_matrix_train = iris_kernel.evaluate(x_vec=x_train)"
   ]
  },
  {
   "cell_type": "code",
   "execution_count": 21,
   "id": "c9a3c457",
   "metadata": {},
   "outputs": [
    {
     "name": "stdout",
     "output_type": "stream",
     "text": [
      "CPU times: user 1.36 ms, sys: 938 µs, total: 2.29 ms\n",
      "Wall time: 1.11 ms\n"
     ]
    },
    {
     "data": {
      "text/plain": [
       "SVC(kernel='precomputed')"
      ]
     },
     "execution_count": 21,
     "metadata": {},
     "output_type": "execute_result"
    }
   ],
   "source": [
    "%%time\n",
    "iris_svc = SVC(kernel=\"precomputed\")\n",
    "iris_svc.fit(iris_matrix_train, y_train)"
   ]
  },
  {
   "cell_type": "code",
   "execution_count": 22,
   "id": "f1c8a449",
   "metadata": {},
   "outputs": [
    {
     "name": "stdout",
     "output_type": "stream",
     "text": [
      "Precomputed kernel classification train score: 0.9583333333333334\n",
      "CPU times: user 310 µs, sys: 258 µs, total: 568 µs\n",
      "Wall time: 390 µs\n"
     ]
    }
   ],
   "source": [
    "%%time\n",
    "iris_train_score = iris_svc.score(iris_matrix_train, y_train)\n",
    "print(f\"Precomputed kernel classification train score: {iris_train_score}\")"
   ]
  },
  {
   "cell_type": "code",
   "execution_count": 23,
   "id": "699e0f00",
   "metadata": {},
   "outputs": [
    {
     "name": "stdout",
     "output_type": "stream",
     "text": [
      "Precomputed kernel classification test score: 0.6666666666666666\n",
      "CPU times: user 379 ms, sys: 43.7 ms, total: 423 ms\n",
      "Wall time: 419 ms\n"
     ]
    }
   ],
   "source": [
    "%%time\n",
    "iris_matrix_test = iris_kernel.evaluate(x_vec=x_test, y_vec=x_train)\n",
    "iris_test_score = iris_svc.score(iris_matrix_test, y_test)\n",
    "print(f\"Precomputed kernel classification test score: {iris_test_score}\")"
   ]
  },
  {
   "cell_type": "markdown",
   "id": "26876fef",
   "metadata": {},
   "source": [
    "## References\n",
    "\n",
    "- https://github.com/Qiskit/qiskit-machine-learning/blob/main/docs/tutorials/03_quantum_kernel.ipynb\n",
    "- https://qiskit.org/documentation/stubs/qiskit.circuit.library.ZFeatureMap.html\n",
    "- https://qiskit.org/documentation/stubs/qiskit.circuit.library.ZZFeatureMap.html\n",
    "- https://qiskit.org/documentation/machine-learning/stubs/qiskit_machine_learning.kernels.QuantumKernel.html\n",
    "- https://qiskit.org/documentation/stubs/qiskit.providers.aer.StatevectorSimulator.html\n",
    "- https://qiskit.org/documentation/stubs/qiskit.utils.QuantumInstance.html?highlight=quantuminstance#qiskit.utils.QuantumInstance\n"
   ]
  },
  {
   "cell_type": "code",
   "execution_count": null,
   "id": "10fc5e5b",
   "metadata": {},
   "outputs": [],
   "source": []
  }
 ],
 "metadata": {
  "kernelspec": {
   "display_name": "Python 3 (ipykernel)",
   "language": "python",
   "name": "python3"
  },
  "language_info": {
   "codemirror_mode": {
    "name": "ipython",
    "version": 3
   },
   "file_extension": ".py",
   "mimetype": "text/x-python",
   "name": "python",
   "nbconvert_exporter": "python",
   "pygments_lexer": "ipython3",
   "version": "3.8.12"
  }
 },
 "nbformat": 4,
 "nbformat_minor": 5
}
